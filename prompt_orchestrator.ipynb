{
 "cells": [
  {
   "cell_type": "code",
   "execution_count": 1,
   "metadata": {},
   "outputs": [],
   "source": [
    "from newsapi import NewsApiClient\n",
    "from langchain.chains import APIChain\n",
    "from langchain.chains.api import open_meteo_docs, news_docs\n",
    "from langchain.chat_models import AzureChatOpenAI"
   ]
  },
  {
   "cell_type": "code",
   "execution_count": 2,
   "metadata": {},
   "outputs": [
    {
     "name": "stdout",
     "output_type": "stream",
     "text": [
      "\n",
      "\n",
      "\u001b[1m> Entering new APIChain chain...\u001b[0m\n",
      "\u001b[32;1m\u001b[1;3mN/A - The given API documentation does not provide any information related to US Presidential polling, and therefore cannot be used to generate an API url to answer this question.\u001b[0m\n"
     ]
    },
    {
     "ename": "ValueError",
     "evalue": "N/A - The given API documentation does not provide any information related to US Presidential polling, and therefore cannot be used to generate an API url to answer this question. is not in the allowed domains: ['https://api.open-meteo.com/']",
     "output_type": "error",
     "traceback": [
      "\u001b[0;31m---------------------------------------------------------------------------\u001b[0m",
      "\u001b[0;31mValueError\u001b[0m                                Traceback (most recent call last)",
      "\u001b[1;32m/Users/angusbolton/Library/CloudStorage/OneDrive-Deloitte(O365D)/Documents/PairD-orchestration/prompt_orchestrator.ipynb Cell 3\u001b[0m line \u001b[0;36m1\n\u001b[1;32m      <a href='vscode-notebook-cell:/Users/angusbolton/Library/CloudStorage/OneDrive-Deloitte%28O365D%29/Documents/PairD-orchestration/prompt_orchestrator.ipynb#W2sZmlsZQ%3D%3D?line=0'>1</a>\u001b[0m chat_model \u001b[39m=\u001b[39m AzureChatOpenAI(\n\u001b[1;32m      <a href='vscode-notebook-cell:/Users/angusbolton/Library/CloudStorage/OneDrive-Deloitte%28O365D%29/Documents/PairD-orchestration/prompt_orchestrator.ipynb#W2sZmlsZQ%3D%3D?line=1'>2</a>\u001b[0m     openai_api_base\u001b[39m=\u001b[39m\u001b[39m\"\u001b[39m\u001b[39mhttps://deloittegpt35devmodel.openai.azure.com/\u001b[39m\u001b[39m\"\u001b[39m,\n\u001b[1;32m      <a href='vscode-notebook-cell:/Users/angusbolton/Library/CloudStorage/OneDrive-Deloitte%28O365D%29/Documents/PairD-orchestration/prompt_orchestrator.ipynb#W2sZmlsZQ%3D%3D?line=2'>3</a>\u001b[0m     openai_api_version\u001b[39m=\u001b[39m\u001b[39m\"\u001b[39m\u001b[39m2023-03-15-preview\u001b[39m\u001b[39m\"\u001b[39m,\n\u001b[0;32m   (...)\u001b[0m\n\u001b[1;32m      <a href='vscode-notebook-cell:/Users/angusbolton/Library/CloudStorage/OneDrive-Deloitte%28O365D%29/Documents/PairD-orchestration/prompt_orchestrator.ipynb#W2sZmlsZQ%3D%3D?line=5'>6</a>\u001b[0m     openai_api_type\u001b[39m=\u001b[39m\u001b[39m\"\u001b[39m\u001b[39mazure\u001b[39m\u001b[39m\"\u001b[39m,\n\u001b[1;32m      <a href='vscode-notebook-cell:/Users/angusbolton/Library/CloudStorage/OneDrive-Deloitte%28O365D%29/Documents/PairD-orchestration/prompt_orchestrator.ipynb#W2sZmlsZQ%3D%3D?line=6'>7</a>\u001b[0m )\n\u001b[1;32m      <a href='vscode-notebook-cell:/Users/angusbolton/Library/CloudStorage/OneDrive-Deloitte%28O365D%29/Documents/PairD-orchestration/prompt_orchestrator.ipynb#W2sZmlsZQ%3D%3D?line=8'>9</a>\u001b[0m chain \u001b[39m=\u001b[39m APIChain\u001b[39m.\u001b[39mfrom_llm_and_api_docs(\n\u001b[1;32m     <a href='vscode-notebook-cell:/Users/angusbolton/Library/CloudStorage/OneDrive-Deloitte%28O365D%29/Documents/PairD-orchestration/prompt_orchestrator.ipynb#W2sZmlsZQ%3D%3D?line=9'>10</a>\u001b[0m     chat_model,\n\u001b[1;32m     <a href='vscode-notebook-cell:/Users/angusbolton/Library/CloudStorage/OneDrive-Deloitte%28O365D%29/Documents/PairD-orchestration/prompt_orchestrator.ipynb#W2sZmlsZQ%3D%3D?line=10'>11</a>\u001b[0m     open_meteo_docs\u001b[39m.\u001b[39mOPEN_METEO_DOCS,\n\u001b[1;32m     <a href='vscode-notebook-cell:/Users/angusbolton/Library/CloudStorage/OneDrive-Deloitte%28O365D%29/Documents/PairD-orchestration/prompt_orchestrator.ipynb#W2sZmlsZQ%3D%3D?line=11'>12</a>\u001b[0m     verbose\u001b[39m=\u001b[39m\u001b[39mTrue\u001b[39;00m,\n\u001b[1;32m     <a href='vscode-notebook-cell:/Users/angusbolton/Library/CloudStorage/OneDrive-Deloitte%28O365D%29/Documents/PairD-orchestration/prompt_orchestrator.ipynb#W2sZmlsZQ%3D%3D?line=12'>13</a>\u001b[0m     limit_to_domains\u001b[39m=\u001b[39m[\u001b[39m\"\u001b[39m\u001b[39mhttps://api.open-meteo.com/\u001b[39m\u001b[39m\"\u001b[39m],\n\u001b[1;32m     <a href='vscode-notebook-cell:/Users/angusbolton/Library/CloudStorage/OneDrive-Deloitte%28O365D%29/Documents/PairD-orchestration/prompt_orchestrator.ipynb#W2sZmlsZQ%3D%3D?line=13'>14</a>\u001b[0m )\n\u001b[0;32m---> <a href='vscode-notebook-cell:/Users/angusbolton/Library/CloudStorage/OneDrive-Deloitte%28O365D%29/Documents/PairD-orchestration/prompt_orchestrator.ipynb#W2sZmlsZQ%3D%3D?line=14'>15</a>\u001b[0m chain\u001b[39m.\u001b[39;49mrun(\n\u001b[1;32m     <a href='vscode-notebook-cell:/Users/angusbolton/Library/CloudStorage/OneDrive-Deloitte%28O365D%29/Documents/PairD-orchestration/prompt_orchestrator.ipynb#W2sZmlsZQ%3D%3D?line=15'>16</a>\u001b[0m     \u001b[39m\"\u001b[39;49m\u001b[39mwhat is the current 2024 US Presidential Polling?\u001b[39;49m\u001b[39m\"\u001b[39;49m\n\u001b[1;32m     <a href='vscode-notebook-cell:/Users/angusbolton/Library/CloudStorage/OneDrive-Deloitte%28O365D%29/Documents/PairD-orchestration/prompt_orchestrator.ipynb#W2sZmlsZQ%3D%3D?line=16'>17</a>\u001b[0m )\n",
      "File \u001b[0;32m~/Library/CloudStorage/OneDrive-Deloitte(O365D)/Documents/PairD-orchestration/paird_venv/lib/python3.11/site-packages/langchain/chains/base.py:507\u001b[0m, in \u001b[0;36mChain.run\u001b[0;34m(self, callbacks, tags, metadata, *args, **kwargs)\u001b[0m\n\u001b[1;32m    505\u001b[0m     \u001b[39mif\u001b[39;00m \u001b[39mlen\u001b[39m(args) \u001b[39m!=\u001b[39m \u001b[39m1\u001b[39m:\n\u001b[1;32m    506\u001b[0m         \u001b[39mraise\u001b[39;00m \u001b[39mValueError\u001b[39;00m(\u001b[39m\"\u001b[39m\u001b[39m`run` supports only one positional argument.\u001b[39m\u001b[39m\"\u001b[39m)\n\u001b[0;32m--> 507\u001b[0m     \u001b[39mreturn\u001b[39;00m \u001b[39mself\u001b[39;49m(args[\u001b[39m0\u001b[39;49m], callbacks\u001b[39m=\u001b[39;49mcallbacks, tags\u001b[39m=\u001b[39;49mtags, metadata\u001b[39m=\u001b[39;49mmetadata)[\n\u001b[1;32m    508\u001b[0m         _output_key\n\u001b[1;32m    509\u001b[0m     ]\n\u001b[1;32m    511\u001b[0m \u001b[39mif\u001b[39;00m kwargs \u001b[39mand\u001b[39;00m \u001b[39mnot\u001b[39;00m args:\n\u001b[1;32m    512\u001b[0m     \u001b[39mreturn\u001b[39;00m \u001b[39mself\u001b[39m(kwargs, callbacks\u001b[39m=\u001b[39mcallbacks, tags\u001b[39m=\u001b[39mtags, metadata\u001b[39m=\u001b[39mmetadata)[\n\u001b[1;32m    513\u001b[0m         _output_key\n\u001b[1;32m    514\u001b[0m     ]\n",
      "File \u001b[0;32m~/Library/CloudStorage/OneDrive-Deloitte(O365D)/Documents/PairD-orchestration/paird_venv/lib/python3.11/site-packages/langchain/chains/base.py:312\u001b[0m, in \u001b[0;36mChain.__call__\u001b[0;34m(self, inputs, return_only_outputs, callbacks, tags, metadata, run_name, include_run_info)\u001b[0m\n\u001b[1;32m    310\u001b[0m \u001b[39mexcept\u001b[39;00m \u001b[39mBaseException\u001b[39;00m \u001b[39mas\u001b[39;00m e:\n\u001b[1;32m    311\u001b[0m     run_manager\u001b[39m.\u001b[39mon_chain_error(e)\n\u001b[0;32m--> 312\u001b[0m     \u001b[39mraise\u001b[39;00m e\n\u001b[1;32m    313\u001b[0m run_manager\u001b[39m.\u001b[39mon_chain_end(outputs)\n\u001b[1;32m    314\u001b[0m final_outputs: Dict[\u001b[39mstr\u001b[39m, Any] \u001b[39m=\u001b[39m \u001b[39mself\u001b[39m\u001b[39m.\u001b[39mprep_outputs(\n\u001b[1;32m    315\u001b[0m     inputs, outputs, return_only_outputs\n\u001b[1;32m    316\u001b[0m )\n",
      "File \u001b[0;32m~/Library/CloudStorage/OneDrive-Deloitte(O365D)/Documents/PairD-orchestration/paird_venv/lib/python3.11/site-packages/langchain/chains/base.py:306\u001b[0m, in \u001b[0;36mChain.__call__\u001b[0;34m(self, inputs, return_only_outputs, callbacks, tags, metadata, run_name, include_run_info)\u001b[0m\n\u001b[1;32m    299\u001b[0m run_manager \u001b[39m=\u001b[39m callback_manager\u001b[39m.\u001b[39mon_chain_start(\n\u001b[1;32m    300\u001b[0m     dumpd(\u001b[39mself\u001b[39m),\n\u001b[1;32m    301\u001b[0m     inputs,\n\u001b[1;32m    302\u001b[0m     name\u001b[39m=\u001b[39mrun_name,\n\u001b[1;32m    303\u001b[0m )\n\u001b[1;32m    304\u001b[0m \u001b[39mtry\u001b[39;00m:\n\u001b[1;32m    305\u001b[0m     outputs \u001b[39m=\u001b[39m (\n\u001b[0;32m--> 306\u001b[0m         \u001b[39mself\u001b[39;49m\u001b[39m.\u001b[39;49m_call(inputs, run_manager\u001b[39m=\u001b[39;49mrun_manager)\n\u001b[1;32m    307\u001b[0m         \u001b[39mif\u001b[39;00m new_arg_supported\n\u001b[1;32m    308\u001b[0m         \u001b[39melse\u001b[39;00m \u001b[39mself\u001b[39m\u001b[39m.\u001b[39m_call(inputs)\n\u001b[1;32m    309\u001b[0m     )\n\u001b[1;32m    310\u001b[0m \u001b[39mexcept\u001b[39;00m \u001b[39mBaseException\u001b[39;00m \u001b[39mas\u001b[39;00m e:\n\u001b[1;32m    311\u001b[0m     run_manager\u001b[39m.\u001b[39mon_chain_error(e)\n",
      "File \u001b[0;32m~/Library/CloudStorage/OneDrive-Deloitte(O365D)/Documents/PairD-orchestration/paird_venv/lib/python3.11/site-packages/langchain/chains/api/base.py:161\u001b[0m, in \u001b[0;36mAPIChain._call\u001b[0;34m(self, inputs, run_manager)\u001b[0m\n\u001b[1;32m    157\u001b[0m api_url \u001b[39m=\u001b[39m api_url\u001b[39m.\u001b[39mstrip()\n\u001b[1;32m    158\u001b[0m \u001b[39mif\u001b[39;00m \u001b[39mself\u001b[39m\u001b[39m.\u001b[39mlimit_to_domains \u001b[39mand\u001b[39;00m \u001b[39mnot\u001b[39;00m _check_in_allowed_domain(\n\u001b[1;32m    159\u001b[0m     api_url, \u001b[39mself\u001b[39m\u001b[39m.\u001b[39mlimit_to_domains\n\u001b[1;32m    160\u001b[0m ):\n\u001b[0;32m--> 161\u001b[0m     \u001b[39mraise\u001b[39;00m \u001b[39mValueError\u001b[39;00m(\n\u001b[1;32m    162\u001b[0m         \u001b[39mf\u001b[39m\u001b[39m\"\u001b[39m\u001b[39m{\u001b[39;00mapi_url\u001b[39m}\u001b[39;00m\u001b[39m is not in the allowed domains: \u001b[39m\u001b[39m{\u001b[39;00m\u001b[39mself\u001b[39m\u001b[39m.\u001b[39mlimit_to_domains\u001b[39m}\u001b[39;00m\u001b[39m\"\u001b[39m\n\u001b[1;32m    163\u001b[0m     )\n\u001b[1;32m    164\u001b[0m api_response \u001b[39m=\u001b[39m \u001b[39mself\u001b[39m\u001b[39m.\u001b[39mrequests_wrapper\u001b[39m.\u001b[39mget(api_url)\n\u001b[1;32m    165\u001b[0m _run_manager\u001b[39m.\u001b[39mon_text(\n\u001b[1;32m    166\u001b[0m     api_response, color\u001b[39m=\u001b[39m\u001b[39m\"\u001b[39m\u001b[39myellow\u001b[39m\u001b[39m\"\u001b[39m, end\u001b[39m=\u001b[39m\u001b[39m\"\u001b[39m\u001b[39m\\n\u001b[39;00m\u001b[39m\"\u001b[39m, verbose\u001b[39m=\u001b[39m\u001b[39mself\u001b[39m\u001b[39m.\u001b[39mverbose\n\u001b[1;32m    167\u001b[0m )\n",
      "\u001b[0;31mValueError\u001b[0m: N/A - The given API documentation does not provide any information related to US Presidential polling, and therefore cannot be used to generate an API url to answer this question. is not in the allowed domains: ['https://api.open-meteo.com/']"
     ]
    }
   ],
   "source": [
    "chat_model = AzureChatOpenAI(\n",
    "    openai_api_base=\"https://deloittegpt35devmodel.openai.azure.com/\",\n",
    "    openai_api_version=\"2023-03-15-preview\",\n",
    "    deployment_name=\"DeloitteGPTDEV01\",\n",
    "    openai_api_key=\"c87e82f47c95472582fdca50efc16e38\",\n",
    "    openai_api_type=\"azure\",\n",
    ")\n",
    "\n",
    "chain = APIChain.from_llm_and_api_docs(\n",
    "    chat_model,\n",
    "    open_meteo_docs.OPEN_METEO_DOCS,\n",
    "    verbose=True,\n",
    "    limit_to_domains=[\"https://api.open-meteo.com/\"],\n",
    ")\n",
    "chain.run(\n",
    "    \"what is the current 2024 US Presidential Polling?\"\n",
    ")"
   ]
  },
  {
   "cell_type": "code",
   "execution_count": 3,
   "metadata": {},
   "outputs": [
    {
     "name": "stdout",
     "output_type": "stream",
     "text": [
      "\n",
      "\n",
      "\u001b[1m> Entering new APIChain chain...\u001b[0m\n",
      "\u001b[32;1m\u001b[1;3mhttps://newsapi.org/v2/top-headlines?country=fr&category=business&pageSize=2\u001b[0m\n",
      "\u001b[33;1m\u001b[1;3m{\"status\":\"ok\",\"totalResults\":70,\"articles\":[{\"title\":\"ChatGPT : OpenAI pourrait valoir plus de 100 milliards de dollars - Économie Matin\",\"author\":\"Économie Matin\",\"source\":{\"id\":\"google-news\",\"name\":\"Google News\"},\"publishedAt\":\"2023-12-26T07:07:55Z\",\"url\":\"https://news.google.com/rss/articles/CBMiRGh0dHBzOi8vd3d3LmVjb25vbWllbWF0aW4uZnIvb3BlbmFpLWNoYXRncHQtdmFsb3Jpc2F0aW9uLWxldmVlLWZvbmRz0gEA?oc=5\"},{\"title\":\"Impôts : cette réforme qui va vous faire gagner de l’argent en 2024 - TF1 INFO\",\"author\":\"TF1 INFO\",\"source\":{\"id\":\"google-news\",\"name\":\"Google News\"},\"publishedAt\":\"2023-12-26T07:00:00Z\",\"url\":\"https://news.google.com/rss/articles/CBMibmh0dHBzOi8vd3d3LnRmMWluZm8uZnIvZWNvbm9taWUvaW1wb3RzLWNldHRlLXJlZm9ybWUtcXVpLXZhLXZvdXMtZmFpcmUtZ2FnbmVyLWRlLWwtYXJnZW50LWVuLTIwMjQtMjI3OTM2OS5odG1s0gFyaHR0cHM6Ly93d3cudGYxaW5mby5mci9hbXAvZWNvbm9taWUvaW1wb3RzLWNldHRlLXJlZm9ybWUtcXVpLXZhLXZvdXMtZmFpcmUtZ2FnbmVyLWRlLWwtYXJnZW50LWVuLTIwMjQtMjI3OTM2OS5odG1s?oc=5\"}]}\u001b[0m\n",
      "\n",
      "\u001b[1m> Finished chain.\u001b[0m\n"
     ]
    },
    {
     "data": {
      "text/plain": [
       "'The API returned 2 articles about the French economy, one discussing the potential value of OpenAI and the other about a tax reform that could save people money in 2024.'"
      ]
     },
     "execution_count": 3,
     "metadata": {},
     "output_type": "execute_result"
    }
   ],
   "source": [
    "headers = {\n",
    "    'x-api-key': '9bfc7e5e09ea47b0bcd79b4873900d7c'\n",
    "}\n",
    "\n",
    "chain = APIChain.from_llm_and_api_docs(\n",
    "    chat_model,\n",
    "    news_docs.NEWS_DOCS,\n",
    "    headers = headers,\n",
    "    verbose=True,\n",
    "    limit_to_domains=[\"https://newsapi.org/v2\"],\n",
    ")\n",
    "\n",
    "chain.run(\n",
    "    \"headlines about the French economy?\"\n",
    ")"
   ]
  },
  {
   "cell_type": "code",
   "execution_count": 4,
   "metadata": {},
   "outputs": [],
   "source": [
    "import os\n",
    "\n",
    "from langchain.utilities import OpenWeatherMapAPIWrapper\n",
    "\n",
    "os.environ[\"OPENWEATHERMAP_API_KEY\"] = \"31f444f33b644e2b7db09ce311c3ec6d\"\n",
    "\n",
    "weather = OpenWeatherMapAPIWrapper()"
   ]
  },
  {
   "cell_type": "code",
   "execution_count": 5,
   "metadata": {},
   "outputs": [
    {
     "name": "stdout",
     "output_type": "stream",
     "text": [
      "In London,GB, the current weather is as follows:\n",
      "Detailed status: overcast clouds\n",
      "Wind speed: 5.81 m/s, direction: 170°\n",
      "Humidity: 87%\n",
      "Temperature: \n",
      "  - Current: 11.74°C\n",
      "  - High: 12.36°C\n",
      "  - Low: 10.66°C\n",
      "  - Feels like: 11.24°C\n",
      "Rain: {}\n",
      "Heat index: None\n",
      "Cloud cover: 100%\n"
     ]
    }
   ],
   "source": [
    "weather_data = weather.run(\"London,GB\")\n",
    "print(weather_data)"
   ]
  },
  {
   "cell_type": "code",
   "execution_count": 6,
   "metadata": {},
   "outputs": [],
   "source": [
    "import os\n",
    "\n",
    "from langchain.agents import AgentType, initialize_agent, load_tools\n",
    "from langchain.chat_models import AzureChatOpenAI\n",
    "\n",
    "os.environ[\"OPENWEATHERMAP_API_KEY\"] = '31f444f33b644e2b7db09ce311c3ec6d'\n",
    "\n",
    "chat_model = AzureChatOpenAI(\n",
    "    openai_api_base=\"https://deloittegpt35devmodel.openai.azure.com/\",\n",
    "    openai_api_version=\"2023-03-15-preview\",\n",
    "    deployment_name=\"DeloitteGPTDEV01\",\n",
    "    openai_api_key=\"c87e82f47c95472582fdca50efc16e38\",\n",
    "    openai_api_type=\"azure\",\n",
    ")\n",
    "\n",
    "tools = load_tools([\"openweathermap-api\"], chat_model)\n",
    "\n",
    "agent_chain = initialize_agent(\n",
    "    tools=tools, llm=chat_model, agent=AgentType.ZERO_SHOT_REACT_DESCRIPTION, verbose=True\n",
    ")\n"
   ]
  },
  {
   "cell_type": "code",
   "execution_count": 13,
   "metadata": {},
   "outputs": [
    {
     "name": "stdout",
     "output_type": "stream",
     "text": [
      "\n",
      "\n",
      "\u001b[1m> Entering new AgentExecutor chain...\u001b[0m\n",
      "\u001b[32;1m\u001b[1;3mI need to check the current weather in Geneva to see if it's snowing.\n",
      "Action: OpenWeatherMap\n",
      "Action Input: Geneva\u001b[0m\n",
      "Observation: \u001b[36;1m\u001b[1;3mIn Geneva, the current weather is as follows:\n",
      "Detailed status: clear sky\n",
      "Wind speed: 3.09 m/s, direction: 60°\n",
      "Humidity: 92%\n",
      "Temperature: \n",
      "  - Current: -1.44°C\n",
      "  - High: 0.45°C\n",
      "  - Low: -3.06°C\n",
      "  - Feels like: -5.31°C\n",
      "Rain: {}\n",
      "Heat index: None\n",
      "Cloud cover: 0%\u001b[0m\n",
      "Thought:\u001b[32;1m\u001b[1;3mBased on the current weather information, it doesn't seem like it will be snowy in Geneva this week.\n",
      "Final Answer: No, it doesn't seem like it will be snowy in Geneva this week according to the current weather information.\u001b[0m\n",
      "\n",
      "\u001b[1m> Finished chain.\u001b[0m\n"
     ]
    },
    {
     "data": {
      "text/plain": [
       "\"No, it doesn't seem like it will be snowy in Geneva this week according to the current weather information.\""
      ]
     },
     "execution_count": 13,
     "metadata": {},
     "output_type": "execute_result"
    }
   ],
   "source": [
    "agent_chain.run(\"will it be snowy in geneva this week?\")"
   ]
  },
  {
   "cell_type": "code",
   "execution_count": 99,
   "metadata": {},
   "outputs": [],
   "source": [
    "os.environ[\"SERP_API_KEY\"] = \"2296bedfa5a3f07c4552c32685492e97d0fe3b66db25cbe843994b5a70c88c85\""
   ]
  },
  {
   "cell_type": "code",
   "execution_count": 103,
   "metadata": {},
   "outputs": [
    {
     "ename": "ValidationError",
     "evalue": "1 validation error for GoogleFinanceAPIWrapper\n__root__\n  Did not find serp_api_key, please add an environment variable `SERPAPI_API_KEY` which contains it, or pass  `serp_api_key` as a named parameter. (type=value_error)",
     "output_type": "error",
     "traceback": [
      "\u001b[0;31m---------------------------------------------------------------------------\u001b[0m",
      "\u001b[0;31mValidationError\u001b[0m                           Traceback (most recent call last)",
      "\u001b[1;32m/Users/angusbolton/Library/CloudStorage/OneDrive-Deloitte(O365D)/Documents/PairD-orchestration/prompt_orchestrator.ipynb Cell 9\u001b[0m line \u001b[0;36m7\n\u001b[1;32m      <a href='vscode-notebook-cell:/Users/angusbolton/Library/CloudStorage/OneDrive-Deloitte%28O365D%29/Documents/PairD-orchestration/prompt_orchestrator.ipynb#X12sZmlsZQ%3D%3D?line=3'>4</a>\u001b[0m \u001b[39mfrom\u001b[39;00m \u001b[39mlangchain\u001b[39;00m\u001b[39m.\u001b[39;00m\u001b[39mutilities\u001b[39;00m\u001b[39m.\u001b[39;00m\u001b[39mgoogle_finance\u001b[39;00m \u001b[39mimport\u001b[39;00m GoogleFinanceAPIWrapper\n\u001b[1;32m      <a href='vscode-notebook-cell:/Users/angusbolton/Library/CloudStorage/OneDrive-Deloitte%28O365D%29/Documents/PairD-orchestration/prompt_orchestrator.ipynb#X12sZmlsZQ%3D%3D?line=5'>6</a>\u001b[0m \u001b[39m# os.environ[\"SERP_API_KEY\"] = \"2296bedfa5a3f07c4552c32685492e97d0fe3b66db25cbe843994b5a70c88c85\"\u001b[39;00m\n\u001b[0;32m----> <a href='vscode-notebook-cell:/Users/angusbolton/Library/CloudStorage/OneDrive-Deloitte%28O365D%29/Documents/PairD-orchestration/prompt_orchestrator.ipynb#X12sZmlsZQ%3D%3D?line=6'>7</a>\u001b[0m tool \u001b[39m=\u001b[39m GoogleFinanceQueryRun(api_wrapper\u001b[39m=\u001b[39mGoogleFinanceAPIWrapper())\n",
      "File \u001b[0;32m~/Library/CloudStorage/OneDrive-Deloitte(O365D)/Documents/PairD-orchestration/paird_venv/lib/python3.11/site-packages/pydantic/main.py:341\u001b[0m, in \u001b[0;36mpydantic.main.BaseModel.__init__\u001b[0;34m()\u001b[0m\n",
      "\u001b[0;31mValidationError\u001b[0m: 1 validation error for GoogleFinanceAPIWrapper\n__root__\n  Did not find serp_api_key, please add an environment variable `SERPAPI_API_KEY` which contains it, or pass  `serp_api_key` as a named parameter. (type=value_error)"
     ]
    }
   ],
   "source": [
    "import os\n",
    "\n",
    "from langchain.tools.google_finance.tool import GoogleFinanceQueryRun\n",
    "from langchain.utilities.google_finance import GoogleFinanceAPIWrapper\n",
    "\n",
    "# os.environ[\"SERP_API_KEY\"] = \"2296bedfa5a3f07c4552c32685492e97d0fe3b66db25cbe843994b5a70c88c85\"\n",
    "tool = GoogleFinanceQueryRun(api_wrapper=GoogleFinanceAPIWrapper())"
   ]
  },
  {
   "cell_type": "code",
   "execution_count": 19,
   "metadata": {},
   "outputs": [
    {
     "ename": "ValidationError",
     "evalue": "1 validation error for GoogleFinanceAPIWrapper\n__root__\n  Did not find serp_api_key, please add an environment variable `SERPAPI_API_KEY` which contains it, or pass  `serp_api_key` as a named parameter. (type=value_error)",
     "output_type": "error",
     "traceback": [
      "\u001b[0;31m---------------------------------------------------------------------------\u001b[0m",
      "\u001b[0;31mValidationError\u001b[0m                           Traceback (most recent call last)",
      "\u001b[1;32m/Users/angusbolton/Library/CloudStorage/OneDrive-Deloitte(O365D)/Documents/PairD-orchestration/prompt_orchestrator.ipynb Cell 11\u001b[0m line \u001b[0;36m7\n\u001b[1;32m      <a href='vscode-notebook-cell:/Users/angusbolton/Library/CloudStorage/OneDrive-Deloitte%28O365D%29/Documents/PairD-orchestration/prompt_orchestrator.ipynb#X13sZmlsZQ%3D%3D?line=2'>3</a>\u001b[0m \u001b[39mfrom\u001b[39;00m \u001b[39mlangchain\u001b[39;00m\u001b[39m.\u001b[39;00m\u001b[39magents\u001b[39;00m \u001b[39mimport\u001b[39;00m AgentType, initialize_agent, load_tools\n\u001b[1;32m      <a href='vscode-notebook-cell:/Users/angusbolton/Library/CloudStorage/OneDrive-Deloitte%28O365D%29/Documents/PairD-orchestration/prompt_orchestrator.ipynb#X13sZmlsZQ%3D%3D?line=4'>5</a>\u001b[0m os\u001b[39m.\u001b[39menviron[\u001b[39m\"\u001b[39m\u001b[39mSERP_API_KEY\u001b[39m\u001b[39m\"\u001b[39m] \u001b[39m=\u001b[39m \u001b[39m\"\u001b[39m\u001b[39m2296bedfa5a3f07c4552c32685492e97d0fe3b66db25cbe843994b5a70c88c85\u001b[39m\u001b[39m\"\u001b[39m\n\u001b[0;32m----> <a href='vscode-notebook-cell:/Users/angusbolton/Library/CloudStorage/OneDrive-Deloitte%28O365D%29/Documents/PairD-orchestration/prompt_orchestrator.ipynb#X13sZmlsZQ%3D%3D?line=6'>7</a>\u001b[0m tools \u001b[39m=\u001b[39m load_tools([\u001b[39m\"\u001b[39;49m\u001b[39mgoogle-finance\u001b[39;49m\u001b[39m\"\u001b[39;49m], llm\u001b[39m=\u001b[39;49mchat_model)\n\u001b[1;32m      <a href='vscode-notebook-cell:/Users/angusbolton/Library/CloudStorage/OneDrive-Deloitte%28O365D%29/Documents/PairD-orchestration/prompt_orchestrator.ipynb#X13sZmlsZQ%3D%3D?line=8'>9</a>\u001b[0m agent \u001b[39m=\u001b[39m initialize_agent(\n\u001b[1;32m     <a href='vscode-notebook-cell:/Users/angusbolton/Library/CloudStorage/OneDrive-Deloitte%28O365D%29/Documents/PairD-orchestration/prompt_orchestrator.ipynb#X13sZmlsZQ%3D%3D?line=9'>10</a>\u001b[0m     tools, chat_model, agent\u001b[39m=\u001b[39mAgentType\u001b[39m.\u001b[39mZERO_SHOT_REACT_DESCRIPTION, verbose\u001b[39m=\u001b[39m\u001b[39mTrue\u001b[39;00m\n\u001b[1;32m     <a href='vscode-notebook-cell:/Users/angusbolton/Library/CloudStorage/OneDrive-Deloitte%28O365D%29/Documents/PairD-orchestration/prompt_orchestrator.ipynb#X13sZmlsZQ%3D%3D?line=10'>11</a>\u001b[0m )\n\u001b[1;32m     <a href='vscode-notebook-cell:/Users/angusbolton/Library/CloudStorage/OneDrive-Deloitte%28O365D%29/Documents/PairD-orchestration/prompt_orchestrator.ipynb#X13sZmlsZQ%3D%3D?line=11'>12</a>\u001b[0m agent\u001b[39m.\u001b[39mrun(\u001b[39m\"\u001b[39m\u001b[39mwhat is google\u001b[39m\u001b[39m'\u001b[39m\u001b[39ms stock\u001b[39m\u001b[39m\"\u001b[39m)\n",
      "File \u001b[0;32m~/Library/CloudStorage/OneDrive-Deloitte(O365D)/Documents/PairD-orchestration/paird_venv/lib/python3.11/site-packages/langchain/agents/load_tools.py:613\u001b[0m, in \u001b[0;36mload_tools\u001b[0;34m(tool_names, llm, callbacks, **kwargs)\u001b[0m\n\u001b[1;32m    611\u001b[0m     _get_tool_func, extra_keys \u001b[39m=\u001b[39m _EXTRA_OPTIONAL_TOOLS[name]\n\u001b[1;32m    612\u001b[0m     sub_kwargs \u001b[39m=\u001b[39m {k: kwargs[k] \u001b[39mfor\u001b[39;00m k \u001b[39min\u001b[39;00m extra_keys \u001b[39mif\u001b[39;00m k \u001b[39min\u001b[39;00m kwargs}\n\u001b[0;32m--> 613\u001b[0m     tool \u001b[39m=\u001b[39m _get_tool_func(\u001b[39m*\u001b[39;49m\u001b[39m*\u001b[39;49msub_kwargs)\n\u001b[1;32m    614\u001b[0m     tools\u001b[39m.\u001b[39mappend(tool)\n\u001b[1;32m    615\u001b[0m \u001b[39melse\u001b[39;00m:\n",
      "File \u001b[0;32m~/Library/CloudStorage/OneDrive-Deloitte(O365D)/Documents/PairD-orchestration/paird_venv/lib/python3.11/site-packages/langchain/agents/load_tools.py:274\u001b[0m, in \u001b[0;36m_get_google_finance\u001b[0;34m(**kwargs)\u001b[0m\n\u001b[1;32m    273\u001b[0m \u001b[39mdef\u001b[39;00m \u001b[39m_get_google_finance\u001b[39m(\u001b[39m*\u001b[39m\u001b[39m*\u001b[39mkwargs: Any) \u001b[39m-\u001b[39m\u001b[39m>\u001b[39m BaseTool:\n\u001b[0;32m--> 274\u001b[0m     \u001b[39mreturn\u001b[39;00m GoogleFinanceQueryRun(api_wrapper\u001b[39m=\u001b[39mGoogleFinanceAPIWrapper(\u001b[39m*\u001b[39;49m\u001b[39m*\u001b[39;49mkwargs))\n",
      "File \u001b[0;32m~/Library/CloudStorage/OneDrive-Deloitte(O365D)/Documents/PairD-orchestration/paird_venv/lib/python3.11/site-packages/pydantic/main.py:341\u001b[0m, in \u001b[0;36mpydantic.main.BaseModel.__init__\u001b[0;34m()\u001b[0m\n",
      "\u001b[0;31mValidationError\u001b[0m: 1 validation error for GoogleFinanceAPIWrapper\n__root__\n  Did not find serp_api_key, please add an environment variable `SERPAPI_API_KEY` which contains it, or pass  `serp_api_key` as a named parameter. (type=value_error)"
     ]
    }
   ],
   "source": [
    "import os\n",
    "\n",
    "from langchain.agents import AgentType, initialize_agent, load_tools\n",
    "\n",
    "os.environ[\"SERP_API_KEY\"] = \"2296bedfa5a3f07c4552c32685492e97d0fe3b66db25cbe843994b5a70c88c85\"\n",
    "\n",
    "tools = load_tools([\"google-finance\"], llm=chat_model)\n",
    "\n",
    "agent = initialize_agent(\n",
    "    tools, chat_model, agent=AgentType.ZERO_SHOT_REACT_DESCRIPTION, verbose=True\n",
    ")\n",
    "agent.run(\"what is google's stock\")"
   ]
  },
  {
   "cell_type": "code",
   "execution_count": 28,
   "metadata": {},
   "outputs": [],
   "source": [
    "import os\n",
    "\n",
    "os.environ[\"BING_SUBSCRIPTION_KEY\"] = \"5e7c38d36ec54cdaa0a9e18a54128682\"\n",
    "os.environ[\"BING_SEARCH_URL\"] = \"https://api.bing.microsoft.com/v7.0/search\""
   ]
  },
  {
   "cell_type": "code",
   "execution_count": 43,
   "metadata": {},
   "outputs": [],
   "source": [
    "from langchain.utilities import BingSearchAPIWrapper\n",
    "\n",
    "from langchain.tools import Tool"
   ]
  },
  {
   "cell_type": "code",
   "execution_count": 87,
   "metadata": {},
   "outputs": [],
   "source": [
    "bing_search = BingSearchAPIWrapper(k=3)"
   ]
  },
  {
   "cell_type": "code",
   "execution_count": 88,
   "metadata": {},
   "outputs": [
    {
     "data": {
      "text/plain": [
       "'Latest and upcoming releases from <b>the Bank</b> of <b>England</b>. Our use of cookies. We use necessary cookies to make our site work (for example, to manage your session). We’d also like to use some non-essential cookies (including third-party cookies) to help us improve the site. By clicking ‘Accept recommended settings’ on this banner, you accept ... The latest news and updates from <b>the Bank</b> of <b>England</b>. Extensive coverage and analysis of the BoE&#39;s monetary policy decisions and reports, including interest rates and job market data. Back to top Why is <b>the Bank</b> of <b>England</b> helping banks? Banks and building societies play an important role in the UK economy. Many people, businesses and public services rely on them. For example, businesses sometimes need to borrow money to invest and grow.'"
      ]
     },
     "execution_count": 88,
     "metadata": {},
     "output_type": "execute_result"
    }
   ],
   "source": [
    "\n",
    "bing_search.run(\"what has the bank of england recently done?\")"
   ]
  },
  {
   "cell_type": "code",
   "execution_count": 89,
   "metadata": {},
   "outputs": [],
   "source": [
    "tools = [\n",
    "    Tool.from_function(\n",
    "        func=bing_search.run,\n",
    "        name=\"Bing Search\",\n",
    "        description=\"tool for searching post-cutoff\"\n",
    "    ),\n",
    "]"
   ]
  },
  {
   "cell_type": "code",
   "execution_count": 81,
   "metadata": {},
   "outputs": [
    {
     "data": {
      "text/plain": [
       "[Tool(name='Bing Search', description='tool for searching post-cutoff', func=<bound method BingSearchAPIWrapper.run of BingSearchAPIWrapper(bing_subscription_key='5e7c38d36ec54cdaa0a9e18a54128682', bing_search_url='https://api.bing.microsoft.com/v7.0/search', k=5, search_kwargs={})>)]"
      ]
     },
     "execution_count": 81,
     "metadata": {},
     "output_type": "execute_result"
    }
   ],
   "source": [
    "tools"
   ]
  },
  {
   "cell_type": "code",
   "execution_count": 92,
   "metadata": {},
   "outputs": [],
   "source": [
    "agent = initialize_agent(\n",
    "    tools, chat_model, agent=AgentType.ZERO_SHOT_REACT_DESCRIPTION, verbose=True, handle_parsing_errors=True\n",
    ")"
   ]
  },
  {
   "cell_type": "code",
   "execution_count": 104,
   "metadata": {},
   "outputs": [
    {
     "name": "stdout",
     "output_type": "stream",
     "text": [
      "\n",
      "\n",
      "\u001b[1m> Entering new AgentExecutor chain...\u001b[0m\n",
      "\u001b[32;1m\u001b[1;3mI should search for recent polls to get an accurate answer.\n",
      "Action: Bing Search\n",
      "Action Input: \"donald trump current poll numbers\"\u001b[0m\n",
      "Observation: \u001b[36;1m\u001b[1;3mPolitician/institution Subpopulation Do Americans have a favorable or unfavorable opinion of <b>Donald</b> <b>Trump</b>? In November 2023, we made changes to the way we calculate our polling averages. Read... <b>Trump</b> % No chart for your state? It will be added when polling is available. * The average includes the most recent <b>poll</b> from each source within the past 30 days, up to a maximum of five. If five <b>polls</b> are found, and there are other qualifying <b>polls</b> on that same calendar date, those will also be included. Related Content “<b>Poll</b> after <b>poll</b> clearly demonstrates that former President <b>Donald</b> <b>Trump</b> is still the 800-pound gorilla in the GOP and would be its 2024 nominee should he run,” said Fabrizio, who confirmed...\u001b[0m\n",
      "Thought:\u001b[32;1m\u001b[1;3mI need to scroll down and find the most recent polling numbers.\n",
      "Action: Bing Search\n",
      "Action Input: \"donald trump current poll numbers recent\"\u001b[0m\n",
      "Observation: \u001b[36;1m\u001b[1;3mThe former South Carolina governor Nikki Haley has pulled within four percentage points of frontrunner <b>Donald</b> <b>Trump</b> in <b>New</b> Hampshire’s 2024 Republican presidential primary, a contest which could ... <b>Polls</b> from firms that are banned by FiveThirtyEight are not shown. When the dates of tracking <b>polls</b> from the same pollster overlap, only the most <b>recent</b> version is shown. Data for FiveThirtyEight&#39;s previous favorability, presidential approval and national 2024 Republican primary averages is available for download here . <b>Trump</b> ahead 47% to 43%, worrying some Democrats as others caution avoiding ‘mad <b>poll</b> disease’ <b>Donald</b> <b>Trump</b> has nudged ahead of Joe Biden in national polling for the 2024 presidential election ...\u001b[0m\n",
      "Thought:\u001b[32;1m\u001b[1;3mI now know that Donald Trump is currently polling at 47%. \n",
      "Final Answer: Donald Trump is currently polling at 47%.\u001b[0m\n",
      "\n",
      "\u001b[1m> Finished chain.\u001b[0m\n"
     ]
    },
    {
     "data": {
      "text/plain": [
       "'Donald Trump is currently polling at 47%.'"
      ]
     },
     "execution_count": 104,
     "metadata": {},
     "output_type": "execute_result"
    }
   ],
   "source": [
    "agent.run(\"what is donald trump currently polling at?\")"
   ]
  },
  {
   "cell_type": "markdown",
   "metadata": {},
   "source": [
    "## Building an agent from a standard API call:"
   ]
  },
  {
   "cell_type": "code",
   "execution_count": 60,
   "metadata": {},
   "outputs": [],
   "source": [
    "# Calling the RTT API:\n",
    "\n",
    "from rttapi.api import RttApi\n",
    "\n",
    "api = RttApi('rttapi_abolton1999', '0129da145873d57284c21c90ddfc656fbfe8d88f')\n"
   ]
  },
  {
   "cell_type": "code",
   "execution_count": 66,
   "metadata": {},
   "outputs": [],
   "source": [
    "from nredarwin.webservice import DarwinLdbSession\n",
    "\n",
    "# Assuming 'api' is an instance of the DarwinLdbSession class\n",
    "darwin_sesh = DarwinLdbSession(wsdl=\"https://lite.realtime.nationalrail.co.uk/OpenLDBWS/wsdl.aspx\", api_key=\"a0766b56-129d-4946-9424-1db732537b4c\")"
   ]
  }
 ],
 "metadata": {
  "kernelspec": {
   "display_name": "paird_venv",
   "language": "python",
   "name": "python3"
  },
  "language_info": {
   "codemirror_mode": {
    "name": "ipython",
    "version": 3
   },
   "file_extension": ".py",
   "mimetype": "text/x-python",
   "name": "python",
   "nbconvert_exporter": "python",
   "pygments_lexer": "ipython3",
   "version": "3.11.6"
  }
 },
 "nbformat": 4,
 "nbformat_minor": 2
}
