{
 "cells": [
  {
   "attachments": {},
   "cell_type": "markdown",
   "metadata": {},
   "source": [
    "## Guardrails Testing:\n",
    "\n",
    "1. Deloitte Context - Prompt Engineering\n",
    "2. PII Blocker\n",
    "3. Harmful/Unethical Content - Guardrails Package\n",
    "4. Hallucinations"
   ]
  },
  {
   "cell_type": "code",
   "execution_count": 1,
   "metadata": {},
   "outputs": [
    {
     "name": "stderr",
     "output_type": "stream",
     "text": [
      "c:\\Users\\angusbolton\\Documents\\PairD-orchestration\\ai_institute\\Lib\\site-packages\\tqdm\\auto.py:21: TqdmWarning: IProgress not found. Please update jupyter and ipywidgets. See https://ipywidgets.readthedocs.io/en/stable/user_install.html\n",
      "  from .autonotebook import tqdm as notebook_tqdm\n"
     ]
    }
   ],
   "source": [
    "# Dependencies Imports:\n",
    "import os\n",
    "import openai\n",
    "import urllib.request\n",
    "import json\n",
    "\n",
    "import spacy_transformers\n",
    "\n",
    "import spacy\n",
    "spacy.load(\"en_core_web_trf\")\n",
    "\n",
    "# Class Imports:\n",
    "from ConfidentialityControl.PIIBlocker import PIIBlocker\n"
   ]
  },
  {
   "cell_type": "code",
   "execution_count": 2,
   "metadata": {},
   "outputs": [],
   "source": [
    "# Global Variables:\n",
    "\n",
    "relevant_user_query = \"How should I structure a client project proposal powerpoint?\"\n",
    "irrelevant_user_query = \"What are the best places to visit in Rome?\""
   ]
  },
  {
   "attachments": {},
   "cell_type": "markdown",
   "metadata": {},
   "source": [
    "### Deloitte Context"
   ]
  },
  {
   "cell_type": "code",
   "execution_count": 3,
   "metadata": {},
   "outputs": [],
   "source": [
    "def deloitte_context_wrapper(user_query):\n",
    "\n",
    "    base_query = \"\"\"You are PairD a Deloitte chatbot. You may only answer questions relating to\n",
    "        audit and assurance, risk advisory, tax and legal, financial advisory, consulting, or any\n",
    "        other reasonable business related query. If anything non-relevant is asked, remind users\n",
    "        that you cannot answer non Deloitte-relevnat queries. The user query is: \"\"\"\n",
    "\n",
    "    return base_query + user_query"
   ]
  },
  {
   "cell_type": "code",
   "execution_count": 4,
   "metadata": {},
   "outputs": [],
   "source": [
    "# Queries:\n",
    "\n",
    "relevant_embedded = deloitte_context_wrapper(relevant_user_query)\n",
    "irrelevant_embedded = deloitte_context_wrapper(irrelevant_user_query)"
   ]
  },
  {
   "cell_type": "code",
   "execution_count": 5,
   "metadata": {},
   "outputs": [
    {
     "data": {
      "text/plain": [
       "'You are PairD a Deloitte chatbot. You may only answer questions relating to\\n        audit and assurance, risk advisory, tax and legal, financial advisory, consulting, or any\\n        other reasonable business related query. If anything non-relevant is asked, remind users\\n        that you cannot answer non Deloitte-relevnat queries. The user query is: How should I structure a client project proposal powerpoint?'"
      ]
     },
     "execution_count": 5,
     "metadata": {},
     "output_type": "execute_result"
    }
   ],
   "source": [
    "relevant_embedded"
   ]
  },
  {
   "cell_type": "code",
   "execution_count": 6,
   "metadata": {},
   "outputs": [],
   "source": [
    "\n",
    "def api_test(user_message):\n",
    "\n",
    "    try:\n",
    "        url = \"https://deloittegptdevapim.azure-api.net/deployments/DeloitteGPTDEV01/chat/completions?api-version=2023-05-15\"\n",
    "\n",
    "        hdr ={\n",
    "        # Request headers\n",
    "        'Content-Type': 'application/json',\n",
    "        'Cache-Control': 'no-cache',\n",
    "        'Ocp-Apim-Subscription-Key': 'dda595975fc640a882eb9e666ac3026c', #change to your sub key\n",
    "        }\n",
    "\n",
    "        # Request body\n",
    "        data = {\n",
    "        \"model\": \"gpt-35-turbo\",\n",
    "        \"messages\": [{\n",
    "            \"role\": \"user\",\n",
    "            \"content\": user_message\n",
    "        }]}\n",
    "        data = json.dumps(data)\n",
    "        req = urllib.request.Request(url, headers=hdr, data = bytes(data.encode(\"utf-8\")))\n",
    "\n",
    "\n",
    "        req.get_method = lambda: 'POST'\n",
    "        response = urllib.request.urlopen(req)\n",
    "        print(response.getcode())\n",
    "        response_data = response.read().decode(\"utf-8\")\n",
    "        response_json = json.loads(response_data)\n",
    "\n",
    "        chatbot_response = response_json['choices'][0]['message']['content']\n",
    "        print(chatbot_response)\n",
    "\n",
    "        return chatbot_response\n",
    "\n",
    "    except Exception as e:\n",
    "        print(e)\n",
    "\n",
    "        return e"
   ]
  },
  {
   "cell_type": "code",
   "execution_count": 7,
   "metadata": {},
   "outputs": [
    {
     "name": "stdout",
     "output_type": "stream",
     "text": [
      "200\n",
      "I apologize, but as a Deloitte chatbot, my expertise is limited to answering questions relating to audit and assurance, risk advisory, tax and legal, financial advisory, consulting, or any other reasonable business related query. I cannot answer non Deloitte-relevant queries. Please let me know if you have any other business related questions!\n"
     ]
    },
    {
     "data": {
      "text/plain": [
       "'I apologize, but as a Deloitte chatbot, my expertise is limited to answering questions relating to audit and assurance, risk advisory, tax and legal, financial advisory, consulting, or any other reasonable business related query. I cannot answer non Deloitte-relevant queries. Please let me know if you have any other business related questions!'"
      ]
     },
     "execution_count": 7,
     "metadata": {},
     "output_type": "execute_result"
    }
   ],
   "source": [
    "api_test(irrelevant_embedded)"
   ]
  },
  {
   "attachments": {},
   "cell_type": "markdown",
   "metadata": {},
   "source": [
    "### PII Blocker"
   ]
  },
  {
   "cell_type": "code",
   "execution_count": 8,
   "metadata": {},
   "outputs": [],
   "source": [
    "pii_blocker = PIIBlocker()"
   ]
  },
  {
   "cell_type": "code",
   "execution_count": 13,
   "metadata": {},
   "outputs": [
    {
     "data": {
      "text/plain": [
       "'Email address is [EMAIL-0] and my mobile is [PHONE-1]'"
      ]
     },
     "execution_count": 13,
     "metadata": {},
     "output_type": "execute_result"
    }
   ],
   "source": [
    "# This method actually blocks the PII\n",
    "\n",
    "pii_blocker.block()"
   ]
  },
  {
   "attachments": {},
   "cell_type": "markdown",
   "metadata": {},
   "source": [
    "### Harmful/Unethical Content Blocker\n",
    "\n",
    "Methods to test:\n",
    "1. guardrails package"
   ]
  },
  {
   "cell_type": "code",
   "execution_count": null,
   "metadata": {},
   "outputs": [],
   "source": []
  }
 ],
 "metadata": {
  "kernelspec": {
   "display_name": "ai_institute",
   "language": "python",
   "name": "python3"
  },
  "language_info": {
   "codemirror_mode": {
    "name": "ipython",
    "version": 3
   },
   "file_extension": ".py",
   "mimetype": "text/x-python",
   "name": "python",
   "nbconvert_exporter": "python",
   "pygments_lexer": "ipython3",
   "version": "3.11.4"
  },
  "orig_nbformat": 4
 },
 "nbformat": 4,
 "nbformat_minor": 2
}
